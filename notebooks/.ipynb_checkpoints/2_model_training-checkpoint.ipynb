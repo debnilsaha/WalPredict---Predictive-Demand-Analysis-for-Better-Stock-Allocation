{
 "cells": [
  {
   "cell_type": "code",
   "execution_count": null,
   "id": "a39d032c",
   "metadata": {
    "vscode": {
     "languageId": "plaintext"
    }
   },
   "outputs": [],
   "source": [
    "import pandas as pd\n",
    "import numpy as np\n",
    "from sklearn.preprocessing import OneHotEncoder\n",
    "from sklearn.ensemble import RandomForestRegressor\n",
    "from sklearn.metrics import mean_absolute_error\n",
    "import joblib\n",
    "\n",
    "# Load data\n",
    "df = pd.read_csv('../../data/simulated_sales_data.csv')\n",
    "\n",
    "# One-hot encode categorical columns\n",
    "categoricals = ['sku', 'region', 'weather', 'event']\n",
    "encoder = OneHotEncoder(sparse=False)\n",
    "encoded = encoder.fit_transform(df[categoricals])\n",
    "encoded_df = pd.DataFrame(encoded, columns=encoder.get_feature_names_out(categoricals))\n",
    "\n",
    "# Combine features\n",
    "X = pd.concat([encoded_df, df[['buzz_score']]], axis=1)\n",
    "y = df['units_sold']\n",
    "\n",
    "# Train-test split\n",
    "split_idx = int(len(X) * 0.8)\n",
    "X_train, X_test = X.iloc[:split_idx], X.iloc[split_idx:]\n",
    "y_train, y_test = y.iloc[:split_idx], y.iloc[split_idx:]\n",
    "\n",
    "# Train model\n",
    "model = RandomForestRegressor(n_estimators=100, random_state=42)\n",
    "model.fit(X_train, y_train)\n",
    "\n",
    "# Evaluate\n",
    "preds = model.predict(X_test)\n",
    "mae = mean_absolute_error(y_test, preds)\n",
    "print(f\"MAE: {mae:.2f}\")\n",
    "\n",
    "# Save model & encoder\n",
    "joblib.dump(model, '../../backend/model/demand_model.pkl')\n",
    "joblib.dump(encoder, '../../backend/model/encoder.pkl')"
   ]
  }
 ],
 "metadata": {
  "language_info": {
   "name": "python"
  }
 },
 "nbformat": 4,
 "nbformat_minor": 5
}
