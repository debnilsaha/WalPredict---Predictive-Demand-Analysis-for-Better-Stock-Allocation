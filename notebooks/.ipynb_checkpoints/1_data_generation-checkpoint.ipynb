{
 "cells": [
  {
   "cell_type": "code",
   "execution_count": null,
   "id": "edc3141a",
   "metadata": {
    "vscode": {
     "languageId": "plaintext"
    }
   },
   "outputs": [],
   "source": [
    "import pandas as pd\n",
    "import numpy as np\n",
    "import random\n",
    "from datetime import datetime, timedelta\n",
    "\n",
    "# Parameters\n",
    "regions = ['North', 'South', 'East', 'West']\n",
    "skus = ['SKU_A', 'SKU_B', 'SKU_C']\n",
    "start_date = datetime(2023, 1, 1)\n",
    "end_date = datetime(2024, 1, 1)\n",
    "days = (end_date - start_date).days\n",
    "\n",
    "data = []\n",
    "\n",
    "for i in range(days):\n",
    "    current_date = start_date + timedelta(days=i)\n",
    "    for region in regions:\n",
    "        for sku in skus:\n",
    "            weather = random.choice(['sunny', 'rainy', 'cold', 'hot'])\n",
    "            event = random.choice(['concert', 'sports', 'none'])\n",
    "            buzz_score = np.random.randint(0, 100)\n",
    "            base_sales = np.random.randint(20, 80)\n",
    "\n",
    "            # Adjust sales with season/weather/event\n",
    "            if weather == 'cold' and sku == 'SKU_B':\n",
    "                base_sales += 20\n",
    "            if event != 'none':\n",
    "                base_sales += 15\n",
    "            if buzz_score > 60:\n",
    "                base_sales += 10\n",
    "\n",
    "            data.append([\n",
    "                current_date.strftime('%Y-%m-%d'), sku, region,\n",
    "                base_sales, weather, event, buzz_score\n",
    "            ])\n",
    "\n",
    "df = pd.DataFrame(data, columns=[\n",
    "    'date', 'sku', 'region', 'units_sold', 'weather', 'event', 'buzz_score'\n",
    "])\n",
    "\n",
    "df.to_csv('../../data/simulated_sales_data.csv', index=False)\n",
    "df.head()"
   ]
  }
 ],
 "metadata": {
  "language_info": {
   "name": "python"
  }
 },
 "nbformat": 4,
 "nbformat_minor": 5
}
