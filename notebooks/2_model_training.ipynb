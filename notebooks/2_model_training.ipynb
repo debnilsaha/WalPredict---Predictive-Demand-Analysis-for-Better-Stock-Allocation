{
 "cells": [
  {
   "cell_type": "code",
   "execution_count": 4,
   "id": "ed7b5273",
   "metadata": {
    "vscode": {
     "languageId": "plaintext"
    }
   },
   "outputs": [
    {
     "name": "stdout",
     "output_type": "stream",
     "text": [
      "✅ MAE: 16.47\n"
     ]
    },
    {
     "data": {
      "text/plain": [
       "['/Users/shawnkh/Desktop/S/Projects/WalPredict/backend/model/encoder.pkl']"
      ]
     },
     "execution_count": 4,
     "metadata": {},
     "output_type": "execute_result"
    }
   ],
   "source": [
    "import pandas as pd\n",
    "import numpy as np\n",
    "from sklearn.preprocessing import OneHotEncoder\n",
    "from sklearn.ensemble import RandomForestRegressor\n",
    "from sklearn.metrics import mean_absolute_error\n",
    "import joblib\n",
    "import os\n",
    "\n",
    "csv_path = \"data/simulated_sales_data.csv\"\n",
    "\n",
    "# Confirm the file exists before proceeding\n",
    "if not os.path.exists(csv_path):\n",
    "    raise FileNotFoundError(f\"🚫 File not found at: {csv_path}\")\n",
    "\n",
    "df = pd.read_csv(csv_path)\n",
    "\n",
    "# One-hot encode categorical columns\n",
    "categoricals = ['sku', 'region', 'weather', 'event']\n",
    "encoder = OneHotEncoder(sparse_output=False)  # Use sparse_output=False for sklearn ≥ 1.2\n",
    "encoded = encoder.fit_transform(df[categoricals])\n",
    "encoded_df = pd.DataFrame(encoded, columns=encoder.get_feature_names_out(categoricals))\n",
    "\n",
    "# Combine features\n",
    "X = pd.concat([encoded_df, df[['buzz_score']].reset_index(drop=True)], axis=1)\n",
    "y = df['units_sold']\n",
    "\n",
    "# Train-test split\n",
    "split_idx = int(len(X) * 0.8)\n",
    "X_train, X_test = X.iloc[:split_idx], X.iloc[split_idx:]\n",
    "y_train, y_test = y.iloc[:split_idx], y.iloc[split_idx:]\n",
    "\n",
    "# Train model\n",
    "model = RandomForestRegressor(n_estimators=100, random_state=42)\n",
    "model.fit(X_train, y_train)\n",
    "\n",
    "# Evaluate\n",
    "preds = model.predict(X_test)\n",
    "mae = mean_absolute_error(y_test, preds)\n",
    "print(f\"✅ MAE: {mae:.2f}\")\n",
    "\n",
    "# ✅ Save model & encoder in ../backend/model/\n",
    "model_dir = os.path.abspath(\"../backend/model\")\n",
    "os.makedirs(model_dir, exist_ok=True)\n",
    "\n",
    "joblib.dump(model, os.path.join(model_dir, \"demand_model.pkl\"))\n",
    "joblib.dump(encoder, os.path.join(model_dir, \"encoder.pkl\"))\n"
   ]
  }
 ],
 "metadata": {
  "kernelspec": {
   "display_name": "Python 3 (ipykernel)",
   "language": "python",
   "name": "python3"
  },
  "language_info": {
   "codemirror_mode": {
    "name": "ipython",
    "version": 3
   },
   "file_extension": ".py",
   "mimetype": "text/x-python",
   "name": "python",
   "nbconvert_exporter": "python",
   "pygments_lexer": "ipython3",
   "version": "3.12.7"
  }
 },
 "nbformat": 4,
 "nbformat_minor": 5
}
